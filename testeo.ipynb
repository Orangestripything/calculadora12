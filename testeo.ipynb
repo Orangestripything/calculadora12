{
 "cells": [
  {
   "cell_type": "markdown",
   "metadata": {},
   "source": [
    "# **Calculadora Ahora 12**"
   ]
  },
  {
   "cell_type": "markdown",
   "metadata": {},
   "source": [
    "---"
   ]
  },
  {
   "cell_type": "code",
   "execution_count": 254,
   "metadata": {},
   "outputs": [],
   "source": [
    "import pandas as pd"
   ]
  },
  {
   "cell_type": "code",
   "execution_count": 255,
   "metadata": {},
   "outputs": [],
   "source": [
    "# Inputo del dato\n",
    "monto_credito = input()"
   ]
  },
  {
   "cell_type": "code",
   "execution_count": 256,
   "metadata": {},
   "outputs": [],
   "source": [
    "# Error por si coloca un STR\n",
    "try:\n",
    "    int(monto_credito) \n",
    "except :\n",
    "    print(\"Coloque un número\")\n"
   ]
  },
  {
   "cell_type": "code",
   "execution_count": 257,
   "metadata": {},
   "outputs": [
    {
     "data": {
      "text/plain": [
       "123000.0"
      ]
     },
     "execution_count": 257,
     "metadata": {},
     "output_type": "execute_result"
    }
   ],
   "source": [
    "# Convertimos la variable a tipo INT\n",
    "monto_credito = float(monto_credito)\n",
    "monto_credito"
   ]
  },
  {
   "cell_type": "code",
   "execution_count": 280,
   "metadata": {},
   "outputs": [],
   "source": [
    "# Creamos la tasa de interés\n",
    "tasas_cft = {\"3\" : 0.1024 ,\n",
    "         \"6\" : 0.2887 ,\n",
    "         \"12\" : 0.3297 , \n",
    "         \"18\" : 0.4380 ,\n",
    "         \"24\"  : 0.5221}"
   ]
  },
  {
   "cell_type": "code",
   "execution_count": 259,
   "metadata": {},
   "outputs": [
    {
     "data": {
      "text/plain": [
       "0.438"
      ]
     },
     "execution_count": 259,
     "metadata": {},
     "output_type": "execute_result"
    }
   ],
   "source": [
    "# definimos variables\n",
    "cuota = input()\n",
    "tasas_interes = tasas_cft[cuota]\n",
    "tasas_interes"
   ]
  },
  {
   "cell_type": "code",
   "execution_count": 260,
   "metadata": {},
   "outputs": [],
   "source": [
    "# Arancel de la tarjeta de credito\n",
    "arancel_tarjeta = 0.018"
   ]
  },
  {
   "cell_type": "code",
   "execution_count": 261,
   "metadata": {},
   "outputs": [],
   "source": [
    "# Calculamos la tasa del probrama\n",
    "base_tasa_programa = monto_credito * tasas_interes\n",
    "\n",
    "# Calculamos la base 2\n",
    "base_arancel = monto_credito * arancel_tarjeta"
   ]
  },
  {
   "cell_type": "code",
   "execution_count": 262,
   "metadata": {},
   "outputs": [
    {
     "data": {
      "text/plain": [
       "464.94"
      ]
     },
     "execution_count": 262,
     "metadata": {},
     "output_type": "execute_result"
    }
   ],
   "source": [
    "# Iva arancel\n",
    "iva_arancel = 0.21 * base_arancel\n",
    "iva_arancel"
   ]
  },
  {
   "cell_type": "code",
   "execution_count": 263,
   "metadata": {},
   "outputs": [
    {
     "data": {
      "text/plain": [
       "5656.7699999999995"
      ]
     },
     "execution_count": 263,
     "metadata": {},
     "output_type": "execute_result"
    }
   ],
   "source": [
    "# Iva del programa\n",
    "iva_programa = 0.105 * base_tasa_programa\n",
    "iva_programa"
   ]
  },
  {
   "cell_type": "code",
   "execution_count": 264,
   "metadata": {},
   "outputs": [
    {
     "data": {
      "text/plain": [
       "1346.8500000000001"
      ]
     },
     "execution_count": 264,
     "metadata": {},
     "output_type": "execute_result"
    }
   ],
   "source": [
    "# ingreso bruto\n",
    "iibb = 0.025 * base_tasa_programa\n",
    "iibb"
   ]
  },
  {
   "cell_type": "code",
   "execution_count": 265,
   "metadata": {},
   "outputs": [
    {
     "data": {
      "text/plain": [
       "808.11"
      ]
     },
     "execution_count": 265,
     "metadata": {},
     "output_type": "execute_result"
    }
   ],
   "source": [
    "# otro iva\n",
    "iva3 = 0.015 * base_tasa_programa\n",
    "iva3"
   ]
  },
  {
   "cell_type": "code",
   "execution_count": 266,
   "metadata": {},
   "outputs": [
    {
     "data": {
      "text/plain": [
       "64364.67"
      ]
     },
     "execution_count": 266,
     "metadata": {},
     "output_type": "execute_result"
    }
   ],
   "source": [
    "# total de descuentos\n",
    "total_descuentos_1 = base_tasa_programa + iva_arancel + iva_programa + iibb + iva3 + base_arancel\n",
    "total_descuentos_1"
   ]
  },
  {
   "cell_type": "code",
   "execution_count": 267,
   "metadata": {},
   "outputs": [
    {
     "data": {
      "text/plain": [
       "58635.33"
      ]
     },
     "execution_count": 267,
     "metadata": {},
     "output_type": "execute_result"
    }
   ],
   "source": [
    "# neto_percibido\n",
    "neto_percibido = monto_credito - total_descuentos_1\n",
    "neto_percibido"
   ]
  },
  {
   "cell_type": "code",
   "execution_count": 268,
   "metadata": {},
   "outputs": [
    {
     "data": {
      "text/plain": [
       "0.52329"
      ]
     },
     "execution_count": 268,
     "metadata": {},
     "output_type": "execute_result"
    }
   ],
   "source": [
    "# descuento en %\n",
    "total_descuentos_2 = (total_descuentos_1 / monto_credito )\n",
    "total_descuentos_2"
   ]
  },
  {
   "cell_type": "code",
   "execution_count": 269,
   "metadata": {},
   "outputs": [
    {
     "data": {
      "text/plain": [
       "258018.5018145204"
      ]
     },
     "execution_count": 269,
     "metadata": {},
     "output_type": "execute_result"
    }
   ],
   "source": [
    "# monto a cobrar\n",
    "monto_a_cobrar = ( 1 / (1-total_descuentos_2) * monto_credito )\n",
    "monto_a_cobrar"
   ]
  },
  {
   "cell_type": "code",
   "execution_count": 270,
   "metadata": {},
   "outputs": [
    {
     "name": "stdout",
     "output_type": "stream",
     "text": [
      "258.018,5\n"
     ]
    }
   ],
   "source": [
    "monto_final = '{:,.1f}'.format(monto_a_cobrar).replace(',', ' ')\n",
    "monto_final = monto_final.replace(\".\",\",\")\n",
    "monto_final = monto_final.replace(\" \",\".\")\n",
    "\n",
    "print(monto_final)\n"
   ]
  },
  {
   "cell_type": "code",
   "execution_count": 271,
   "metadata": {},
   "outputs": [
    {
     "data": {
      "text/plain": [
       "6929.819999999999"
      ]
     },
     "execution_count": 271,
     "metadata": {},
     "output_type": "execute_result"
    }
   ],
   "source": [
    "# reintegro a percibir\n",
    "reintegro = iva_arancel + iva_programa + iva3\n",
    "reintegro"
   ]
  },
  {
   "cell_type": "code",
   "execution_count": 277,
   "metadata": {},
   "outputs": [
    {
     "data": {
      "text/plain": [
       "52.33"
      ]
     },
     "execution_count": 277,
     "metadata": {},
     "output_type": "execute_result"
    }
   ],
   "source": [
    "total_descuentos_en_porcentaje = (total_descuentos_1 / monto_credito ) * 100\n",
    "round(total_descuentos_en_porcentaje,2)"
   ]
  },
  {
   "cell_type": "code",
   "execution_count": 243,
   "metadata": {},
   "outputs": [],
   "source": [
    "total_descuentos_pesos = monto_a_cobrar * total_descuentos_en_porcentaje\n",
    "\n",
    "neto_a_percibir = monto_a_cobrar - total_descuentos_pesos"
   ]
  },
  {
   "cell_type": "code",
   "execution_count": 244,
   "metadata": {},
   "outputs": [
    {
     "name": "stdout",
     "output_type": "stream",
     "text": [
      "123.000,0\n",
      "258.018,5\n",
      "135.018,5\n",
      "123.000,0\n",
      "53.874,0\n",
      "2.214,0\n",
      "464,9\n",
      "5.656,8\n",
      "1.346,9\n",
      "808,1\n",
      "6.929,8\n"
     ]
    }
   ],
   "source": [
    "lista_variables = [monto_credito,monto_a_cobrar,total_descuentos_pesos,neto_a_percibir,base_tasa_programa,base_arancel,iva_arancel,iva_programa,iibb,iva3,reintegro]\n",
    "\n",
    "for i in range (len(lista_variables)) :\n",
    "    lista_variables[i] = '{:,.1f}'.format(lista_variables[i]).replace(',', ' ')\n",
    "    lista_variables[i] = lista_variables[i].replace(\".\",\",\")\n",
    "    lista_variables[i] = lista_variables[i].replace(\" \",\".\")\n",
    "    print(lista_variables[i])"
   ]
  },
  {
   "cell_type": "code",
   "execution_count": 283,
   "metadata": {},
   "outputs": [
    {
     "data": {
      "text/plain": [
       "'10,24'"
      ]
     },
     "execution_count": 283,
     "metadata": {},
     "output_type": "execute_result"
    }
   ],
   "source": [
    "str(tasas_cft[\"3\"]*100).replace(\".\",\",\")"
   ]
  },
  {
   "cell_type": "code",
   "execution_count": 284,
   "metadata": {},
   "outputs": [
    {
     "data": {
      "text/plain": [
       "'10,24'"
      ]
     },
     "execution_count": 284,
     "metadata": {},
     "output_type": "execute_result"
    }
   ],
   "source": [
    "str(tasas_cft[\"3\"]*100).replace(\".\",\",\")"
   ]
  },
  {
   "cell_type": "code",
   "execution_count": 245,
   "metadata": {},
   "outputs": [
    {
     "data": {
      "text/plain": [
       "'6.929,8'"
      ]
     },
     "execution_count": 245,
     "metadata": {},
     "output_type": "execute_result"
    }
   ],
   "source": [
    "lista_variables[10]"
   ]
  },
  {
   "cell_type": "code",
   "execution_count": null,
   "metadata": {},
   "outputs": [],
   "source": []
  },
  {
   "cell_type": "markdown",
   "metadata": {},
   "source": [
    "+ ##### hola"
   ]
  },
  {
   "cell_type": "code",
   "execution_count": 246,
   "metadata": {},
   "outputs": [
    {
     "data": {
      "text/plain": [
       "64364.67"
      ]
     },
     "execution_count": 246,
     "metadata": {},
     "output_type": "execute_result"
    }
   ],
   "source": [
    "total_descuentos_1"
   ]
  },
  {
   "cell_type": "code",
   "execution_count": 247,
   "metadata": {},
   "outputs": [
    {
     "data": {
      "text/plain": [
       "str"
      ]
     },
     "execution_count": 247,
     "metadata": {},
     "output_type": "execute_result"
    }
   ],
   "source": [
    "type(monto_final)"
   ]
  },
  {
   "cell_type": "code",
   "execution_count": 248,
   "metadata": {},
   "outputs": [],
   "source": [
    "monto_input = \"$fasfasf\""
   ]
  },
  {
   "cell_type": "code",
   "execution_count": 249,
   "metadata": {},
   "outputs": [],
   "source": [
    "monto_credito = monto_input.strip()\n",
    "monto_credito = monto_credito.replace(\"$\", \"\").replace(\".\",\"\").replace(\",,\",\",\").replace(\",\",\".\")"
   ]
  },
  {
   "cell_type": "code",
   "execution_count": 250,
   "metadata": {},
   "outputs": [
    {
     "name": "stdout",
     "output_type": "stream",
     "text": [
      "Coloque un número válido porfavor\n"
     ]
    }
   ],
   "source": [
    "if monto_credito == \"\" or monto_credito == \"$\" or monto_credito == \" \" : \n",
    "    aux3 = False \n",
    "else:\n",
    "    try:\n",
    "        monto_credito = float(monto_credito)\n",
    "        aux3= True\n",
    "    except ValueError:\n",
    "        print(\"Coloque un número válido porfavor\")\n",
    "        aux3 = False       "
   ]
  },
  {
   "cell_type": "code",
   "execution_count": 251,
   "metadata": {},
   "outputs": [
    {
     "data": {
      "text/plain": [
       "False"
      ]
     },
     "execution_count": 251,
     "metadata": {},
     "output_type": "execute_result"
    }
   ],
   "source": [
    "aux3"
   ]
  },
  {
   "cell_type": "code",
   "execution_count": 252,
   "metadata": {},
   "outputs": [
    {
     "ename": "ValueError",
     "evalue": "could not convert string to float: 'fasfasf'",
     "output_type": "error",
     "traceback": [
      "\u001b[1;31m---------------------------------------------------------------------------\u001b[0m",
      "\u001b[1;31mValueError\u001b[0m                                Traceback (most recent call last)",
      "Cell \u001b[1;32mIn[252], line 3\u001b[0m\n\u001b[0;32m      1\u001b[0m monto_credito \u001b[39m=\u001b[39m monto_input\u001b[39m.\u001b[39mstrip()\n\u001b[0;32m      2\u001b[0m monto_credito \u001b[39m=\u001b[39m monto_credito\u001b[39m.\u001b[39mreplace(\u001b[39m\"\u001b[39m\u001b[39m$\u001b[39m\u001b[39m\"\u001b[39m, \u001b[39m\"\u001b[39m\u001b[39m\"\u001b[39m)\u001b[39m.\u001b[39mreplace(\u001b[39m\"\u001b[39m\u001b[39m.\u001b[39m\u001b[39m\"\u001b[39m,\u001b[39m\"\u001b[39m\u001b[39m\"\u001b[39m)\u001b[39m.\u001b[39mreplace(\u001b[39m\"\u001b[39m\u001b[39m,\u001b[39m\u001b[39m\"\u001b[39m,\u001b[39m\"\u001b[39m\u001b[39m.\u001b[39m\u001b[39m\"\u001b[39m)\n\u001b[1;32m----> 3\u001b[0m monto_credito \u001b[39m=\u001b[39m \u001b[39mfloat\u001b[39;49m(monto_credito)\n\u001b[0;32m      4\u001b[0m \u001b[39mprint\u001b[39m(monto_credito)\n",
      "\u001b[1;31mValueError\u001b[0m: could not convert string to float: 'fasfasf'"
     ]
    }
   ],
   "source": [
    "monto_credito = monto_input.strip()\n",
    "monto_credito = monto_credito.replace(\"$\", \"\").replace(\".\",\"\").replace(\",\",\".\")\n",
    "monto_credito = float(monto_credito)\n",
    "print(monto_credito)"
   ]
  },
  {
   "cell_type": "markdown",
   "metadata": {},
   "source": [
    "pdf"
   ]
  },
  {
   "cell_type": "code",
   "execution_count": null,
   "metadata": {},
   "outputs": [
    {
     "ename": "NameError",
     "evalue": "name 'programa_seleccionado' is not defined",
     "output_type": "error",
     "traceback": [
      "\u001b[1;31m---------------------------------------------------------------------------\u001b[0m",
      "\u001b[1;31mNameError\u001b[0m                                 Traceback (most recent call last)",
      "Cell \u001b[1;32mIn[220], line 67\u001b[0m\n\u001b[0;32m     58\u001b[0m     c\u001b[39m.\u001b[39msave()\n\u001b[0;32m     60\u001b[0m     \u001b[39m# Descargar el PDF generado\u001b[39;00m\n\u001b[0;32m     61\u001b[0m  \u001b[39m#   st.markdown(\"[Descargar PDF]({})\".format(pdf_filename), unsafe_allow_html=True)\u001b[39;00m\n\u001b[0;32m     62\u001b[0m \n\u001b[1;32m   (...)\u001b[0m\n\u001b[0;32m     65\u001b[0m \u001b[39m#st.write(\"Presiona el botón para generar y descargar el PDF:\")\u001b[39;00m\n\u001b[0;32m     66\u001b[0m \u001b[39m#if st.button(\"Generar PDF\"):\u001b[39;00m\n\u001b[1;32m---> 67\u001b[0m generate_pdf()\n",
      "Cell \u001b[1;32mIn[220], line 47\u001b[0m, in \u001b[0;36mgenerate_pdf\u001b[1;34m()\u001b[0m\n\u001b[0;32m     43\u001b[0m c\u001b[39m.\u001b[39mdrawString(\u001b[39m100\u001b[39m, \u001b[39m620\u001b[39m, \u001b[39mf\u001b[39m\u001b[39m\"\u001b[39m\u001b[39mNeto a percibir: $\u001b[39m\u001b[39m{\u001b[39;00mlista_variables[\u001b[39m3\u001b[39m]\u001b[39m}\u001b[39;00m\u001b[39m\"\u001b[39m)\n\u001b[0;32m     46\u001b[0m c\u001b[39m.\u001b[39mdrawString(\u001b[39m100\u001b[39m, \u001b[39m580\u001b[39m, \u001b[39mf\u001b[39m\u001b[39m\"\u001b[39m\u001b[39mDetalle de descuentos\u001b[39m\u001b[39m\"\u001b[39m)\n\u001b[1;32m---> 47\u001b[0m c\u001b[39m.\u001b[39mdrawString(\u001b[39m100\u001b[39m, \u001b[39m560\u001b[39m, \u001b[39mf\u001b[39m\u001b[39m\"\u001b[39m\u001b[39m+ Tasa del programa \u001b[39m\u001b[39m{\u001b[39;00mprograma_seleccionado\u001b[39m}\u001b[39;00m\u001b[39m (\u001b[39m\u001b[39m{\u001b[39;00mtasas_cft[programa_seleccionado]\u001b[39m*\u001b[39m\u001b[39m100\u001b[39m\u001b[39m}\u001b[39;00m\u001b[39m%): **$\u001b[39m\u001b[39m{\u001b[39;00mlista_variables[\u001b[39m4\u001b[39m]\u001b[39m}\u001b[39;00m\u001b[39m**\u001b[39m\u001b[39m\"\u001b[39m)\n\u001b[0;32m     48\u001b[0m c\u001b[39m.\u001b[39mdrawString(\u001b[39m100\u001b[39m, \u001b[39m540\u001b[39m, \u001b[39mf\u001b[39m\u001b[39m\"\u001b[39m\u001b[39m+ Arancel T.Cred (1.8%): **$\u001b[39m\u001b[39m{\u001b[39;00mlista_variables[\u001b[39m5\u001b[39m]\u001b[39m}\u001b[39;00m\u001b[39m**\u001b[39m\u001b[39m\"\u001b[39m)\n\u001b[0;32m     49\u001b[0m c\u001b[39m.\u001b[39mdrawString(\u001b[39m100\u001b[39m, \u001b[39m520\u001b[39m, \u001b[39mf\u001b[39m\u001b[39m\"\u001b[39m\u001b[39m+ IVA (21%): **$\u001b[39m\u001b[39m{\u001b[39;00mlista_variables[\u001b[39m6\u001b[39m]\u001b[39m}\u001b[39;00m\u001b[39m**\u001b[39m\u001b[39m\"\u001b[39m)\n",
      "\u001b[1;31mNameError\u001b[0m: name 'programa_seleccionado' is not defined"
     ]
    }
   ],
   "source": [
    "import streamlit as st\n",
    "from reportlab.lib.pagesizes import letter\n",
    "from reportlab.pdfgen import canvas\n",
    "\n",
    "# Función para generar el PDF\n",
    "def generate_pdf():\n",
    "    # Información para el PDF\n",
    "    monto_actual = 10.0\n",
    "    monto_a_cobrar = 11.6\n",
    "    total_descuentos_porcentaje = 10.0\n",
    "    total_descuentos_pesos = 1.6\n",
    "    neto_a_percibir = 10.0\n",
    "\n",
    "    # Nombre del archivo PDF\n",
    "    pdf_filename = \"informe.pdf\"\n",
    "\n",
    "    # Generar el PDF\n",
    "    c = canvas.Canvas(pdf_filename, pagesize=letter)\n",
    "    \n",
    "    # Agregar título\n",
    "    c.setFont(\"Helvetica-Bold\", 16)\n",
    "    c.drawString(200, 770, \"Calculadora 12\")\n",
    "    \n",
    "    # Agregar imagen (ajusta la ruta de la imagen)\n",
    "    imagen_path = \"imgs/CAME-Transparente.png\"  # Reemplaza 'tu_imagen.png' con la ruta de tu propia imagen\n",
    "    c.drawImage(imagen_path, 100, 1, width=200, height=100)\n",
    "\n",
    "    c.setFont(\"Helvetica\", 12)\n",
    "    c.drawString(100, 700, f\"Monto actual: ${lista_variables[0]}\")\n",
    "    c.drawString(100, 680, f\"Monto a cobrar: {lista_variables[1]}\")\n",
    "    c.drawString(100, 660, f\"Total de descuentos: {round(total_descuentos_en_porcentaje,1)*100}%\")\n",
    "    c.drawString(100, 640, f\"Total de descuentos en pesos: ${lista_variables[2]}\")\n",
    "    c.drawString(100, 620, f\"Neto a percibir: ${lista_variables[3]}\")\n",
    "\n",
    "\n",
    "    c.drawString(100, 580, f\"Detalle de descuentos\")\n",
    "    c.drawString(100, 560, f\"Tasa del programa {programa_seleccionado} ({tasas_cft[programa_seleccionado]*100}%): ${lista_variables[4]}\")\n",
    "    c.drawString(100, 540, f\"Arancel T.Cred (1.8%): ${lista_variables[5]}\")\n",
    "    c.drawString(100, 520, f\"IVA (21%): ${lista_variables[6]}\")\n",
    "    c.drawString(100, 500, f\"IVA (10.5%) ley 25.063: ${lista_variables[7]}\")\n",
    "    c.drawString(100, 480, f\"II.BB (2.5%): ${lista_variables[8]}\")\n",
    "    c.drawString(100, 460, f\"IVA RG2408 (1.5%): ${lista_variables[9]}\")\n",
    "  \n",
    "    if (tipo_inscripcion != \"Monotributista\"):\n",
    "        c.drawString(100, 700, f\"**ATENCIÓN**: Al estar inscripto como {tipo_inscripcion} usted recuperará **${lista_variables[10]}** en concepto de IVA\")\n",
    "\n",
    "    # Guardar y cerrar el PDF\n",
    "    c.save()\n",
    "\n",
    "    # Descargar el PDF generado\n",
    "    st.markdown(\"[Descargar PDF]({})\".format(pdf_filename), unsafe_allow_html=True)\n",
    "\n",
    "# Configuración de la aplicación Streamlit\n",
    "st.title(\"Generador de PDF\")\n",
    "st.write(\"Presiona el botón para generar y descargar el PDF:\")\n",
    "if st.button(\"Generar PDF\"):\n",
    "    generate_pdf()\n"
   ]
  },
  {
   "cell_type": "code",
   "execution_count": null,
   "metadata": {},
   "outputs": [],
   "source": [
    "    # codigo de la tarjeta por las dudas\n",
    "    \"\"\"padding: 20px;\n",
    "                border-radius: 5px;\n",
    "                box-shadow: 2px 2px 5px rgba(0, 0, 0, 0.1);\n",
    "                background-color: #f9f9f9;\"\"\""
   ]
  }
 ],
 "metadata": {
  "kernelspec": {
   "display_name": "Python 3",
   "language": "python",
   "name": "python3"
  },
  "language_info": {
   "codemirror_mode": {
    "name": "ipython",
    "version": 3
   },
   "file_extension": ".py",
   "mimetype": "text/x-python",
   "name": "python",
   "nbconvert_exporter": "python",
   "pygments_lexer": "ipython3",
   "version": "3.11.4"
  },
  "orig_nbformat": 4
 },
 "nbformat": 4,
 "nbformat_minor": 2
}
