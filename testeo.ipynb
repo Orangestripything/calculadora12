{
 "cells": [
  {
   "cell_type": "markdown",
   "metadata": {},
   "source": [
    "# **Calculadora Ahora 12**"
   ]
  },
  {
   "cell_type": "markdown",
   "metadata": {},
   "source": [
    "---"
   ]
  },
  {
   "cell_type": "code",
   "execution_count": 29,
   "metadata": {},
   "outputs": [],
   "source": [
    "import pandas as pd"
   ]
  },
  {
   "cell_type": "code",
   "execution_count": 30,
   "metadata": {},
   "outputs": [],
   "source": [
    "# Inputo del dato\n",
    "monto_credito = input()"
   ]
  },
  {
   "cell_type": "code",
   "execution_count": 31,
   "metadata": {},
   "outputs": [],
   "source": [
    "# Error por si coloca un STR\n",
    "try:\n",
    "    int(monto_credito) \n",
    "except :\n",
    "    print(\"Coloque un número\")\n"
   ]
  },
  {
   "cell_type": "code",
   "execution_count": 32,
   "metadata": {},
   "outputs": [
    {
     "data": {
      "text/plain": [
       "100000.0"
      ]
     },
     "execution_count": 32,
     "metadata": {},
     "output_type": "execute_result"
    }
   ],
   "source": [
    "# Convertimos la variable a tipo INT\n",
    "monto_credito = float(monto_credito)\n",
    "monto_credito"
   ]
  },
  {
   "cell_type": "code",
   "execution_count": 33,
   "metadata": {},
   "outputs": [],
   "source": [
    "# Creamos la tasa de interés\n",
    "tasas_cft = {\"3\" : 0.1024 ,\n",
    "         \"6\" : 0.2887 ,\n",
    "         \"12\" : 0.3297 , \n",
    "         \"18\" : 0.4380 ,\n",
    "         \"24\"  : 0.5221}"
   ]
  },
  {
   "cell_type": "code",
   "execution_count": 34,
   "metadata": {},
   "outputs": [
    {
     "data": {
      "text/plain": [
       "0.3297"
      ]
     },
     "execution_count": 34,
     "metadata": {},
     "output_type": "execute_result"
    }
   ],
   "source": [
    "# definimos variables\n",
    "cuota = input()\n",
    "tasas_interes = tasas_cft[cuota]\n",
    "tasas_interes"
   ]
  },
  {
   "cell_type": "code",
   "execution_count": 35,
   "metadata": {},
   "outputs": [],
   "source": [
    "# Arancel de la tarjeta de credito\n",
    "arancel_tarjeta = 0.018"
   ]
  },
  {
   "cell_type": "code",
   "execution_count": 36,
   "metadata": {},
   "outputs": [],
   "source": [
    "# Calculamos la tasa del probrama\n",
    "base_tasa_programa = monto_credito * tasas_interes\n",
    "\n",
    "# Calculamos la base 2\n",
    "base_arancel = monto_credito * arancel_tarjeta"
   ]
  },
  {
   "cell_type": "code",
   "execution_count": 37,
   "metadata": {},
   "outputs": [
    {
     "data": {
      "text/plain": [
       "377.99999999999994"
      ]
     },
     "execution_count": 37,
     "metadata": {},
     "output_type": "execute_result"
    }
   ],
   "source": [
    "# Iva arancel\n",
    "iva_arancel = 0.21 * base_arancel\n",
    "iva_arancel"
   ]
  },
  {
   "cell_type": "code",
   "execution_count": 38,
   "metadata": {},
   "outputs": [
    {
     "data": {
      "text/plain": [
       "3461.85"
      ]
     },
     "execution_count": 38,
     "metadata": {},
     "output_type": "execute_result"
    }
   ],
   "source": [
    "# Iva del programa\n",
    "iva_programa = 0.105 * base_tasa_programa\n",
    "iva_programa"
   ]
  },
  {
   "cell_type": "code",
   "execution_count": 39,
   "metadata": {},
   "outputs": [
    {
     "data": {
      "text/plain": [
       "824.25"
      ]
     },
     "execution_count": 39,
     "metadata": {},
     "output_type": "execute_result"
    }
   ],
   "source": [
    "# ingreso bruto\n",
    "iibb = 0.025 * base_tasa_programa\n",
    "iibb"
   ]
  },
  {
   "cell_type": "code",
   "execution_count": 40,
   "metadata": {},
   "outputs": [
    {
     "data": {
      "text/plain": [
       "494.54999999999995"
      ]
     },
     "execution_count": 40,
     "metadata": {},
     "output_type": "execute_result"
    }
   ],
   "source": [
    "# otro iva\n",
    "iva3 = 0.015 * base_tasa_programa\n",
    "iva3"
   ]
  },
  {
   "cell_type": "code",
   "execution_count": 41,
   "metadata": {},
   "outputs": [
    {
     "data": {
      "text/plain": [
       "39928.65"
      ]
     },
     "execution_count": 41,
     "metadata": {},
     "output_type": "execute_result"
    }
   ],
   "source": [
    "# total de descuentos\n",
    "total_descuentos_1 = base_tasa_programa + iva_arancel + iva_programa + iibb + iva3 + base_arancel\n",
    "total_descuentos_1"
   ]
  },
  {
   "cell_type": "code",
   "execution_count": 42,
   "metadata": {},
   "outputs": [
    {
     "data": {
      "text/plain": [
       "60071.35"
      ]
     },
     "execution_count": 42,
     "metadata": {},
     "output_type": "execute_result"
    }
   ],
   "source": [
    "# neto_percibido\n",
    "neto_percibido = monto_credito - total_descuentos_1\n",
    "neto_percibido"
   ]
  },
  {
   "cell_type": "code",
   "execution_count": 43,
   "metadata": {},
   "outputs": [
    {
     "data": {
      "text/plain": [
       "0.3992865"
      ]
     },
     "execution_count": 43,
     "metadata": {},
     "output_type": "execute_result"
    }
   ],
   "source": [
    "# descuento en %\n",
    "total_descuentos_2 = (total_descuentos_1 / monto_credito )\n",
    "total_descuentos_2"
   ]
  },
  {
   "cell_type": "code",
   "execution_count": 44,
   "metadata": {},
   "outputs": [
    {
     "data": {
      "text/plain": [
       "166468.70762851177"
      ]
     },
     "execution_count": 44,
     "metadata": {},
     "output_type": "execute_result"
    }
   ],
   "source": [
    "# monto a cobrar\n",
    "monto_a_cobrar = ( 1 / (1-total_descuentos_2) * monto_credito )\n",
    "monto_a_cobrar"
   ]
  },
  {
   "cell_type": "code",
   "execution_count": 22,
   "metadata": {},
   "outputs": [
    {
     "name": "stdout",
     "output_type": "stream",
     "text": [
      "166.468,7\n"
     ]
    }
   ],
   "source": [
    "monto_final = '{:,.1f}'.format(monto_a_cobrar).replace(',', ' ')\n",
    "monto_final = monto_final.replace(\".\",\",\")\n",
    "monto_final = monto_final.replace(\" \",\".\")\n",
    "\n",
    "print(monto_final)\n"
   ]
  },
  {
   "cell_type": "code",
   "execution_count": 45,
   "metadata": {},
   "outputs": [
    {
     "data": {
      "text/plain": [
       "4334.4"
      ]
     },
     "execution_count": 45,
     "metadata": {},
     "output_type": "execute_result"
    }
   ],
   "source": [
    "# reintegro a percibir\n",
    "reintegro = iva_arancel + iva_programa + iva3\n",
    "reintegro"
   ]
  },
  {
   "cell_type": "code",
   "execution_count": 46,
   "metadata": {},
   "outputs": [],
   "source": [
    "total_descuentos_en_porcentaje = (total_descuentos_1 / monto_credito ) "
   ]
  },
  {
   "cell_type": "code",
   "execution_count": 47,
   "metadata": {},
   "outputs": [],
   "source": [
    "total_descuentos_pesos = monto_a_cobrar * total_descuentos_en_porcentaje\n",
    "\n",
    "neto_a_percibir = monto_a_cobrar - total_descuentos_pesos"
   ]
  },
  {
   "cell_type": "code",
   "execution_count": 55,
   "metadata": {},
   "outputs": [
    {
     "name": "stdout",
     "output_type": "stream",
     "text": [
      "100.000,0\n",
      "166.468,7\n",
      "66.468,7\n",
      "100.000,0\n",
      "32.970,0\n",
      "1.800,0\n",
      "378,0\n",
      "3.461,8\n",
      "824,2\n",
      "494,5\n",
      "4.334,4\n"
     ]
    }
   ],
   "source": [
    "lista_variables = [monto_credito,monto_a_cobrar,total_descuentos_pesos,neto_a_percibir,base_tasa_programa,base_arancel,iva_arancel,iva_programa,iibb,iva3,reintegro]\n",
    "\n",
    "for i in range (len(lista_variables)) :\n",
    "    lista_variables[i] = '{:,.1f}'.format(lista_variables[i]).replace(',', ' ')\n",
    "    lista_variables[i] = lista_variables[i].replace(\".\",\",\")\n",
    "    lista_variables[i] = lista_variables[i].replace(\" \",\".\")\n",
    "    print(lista_variables[i])"
   ]
  },
  {
   "cell_type": "code",
   "execution_count": 57,
   "metadata": {},
   "outputs": [
    {
     "data": {
      "text/plain": [
       "'4.334,4'"
      ]
     },
     "execution_count": 57,
     "metadata": {},
     "output_type": "execute_result"
    }
   ],
   "source": [
    "lista_variables[10]"
   ]
  },
  {
   "cell_type": "code",
   "execution_count": 26,
   "metadata": {},
   "outputs": [
    {
     "data": {
      "text/plain": [
       "'4.334,4'"
      ]
     },
     "execution_count": 26,
     "metadata": {},
     "output_type": "execute_result"
    }
   ],
   "source": []
  },
  {
   "cell_type": "markdown",
   "metadata": {},
   "source": [
    "+ ##### hola"
   ]
  },
  {
   "cell_type": "code",
   "execution_count": 19,
   "metadata": {},
   "outputs": [
    {
     "data": {
      "text/plain": [
       "39928.65"
      ]
     },
     "execution_count": 19,
     "metadata": {},
     "output_type": "execute_result"
    }
   ],
   "source": [
    "total_descuentos_1"
   ]
  },
  {
   "cell_type": "code",
   "execution_count": 20,
   "metadata": {},
   "outputs": [
    {
     "data": {
      "text/plain": [
       "str"
      ]
     },
     "execution_count": 20,
     "metadata": {},
     "output_type": "execute_result"
    }
   ],
   "source": [
    "type(monto_final)"
   ]
  },
  {
   "cell_type": "code",
   "execution_count": 197,
   "metadata": {},
   "outputs": [],
   "source": [
    "monto_input = \"$fasfasf\""
   ]
  },
  {
   "cell_type": "code",
   "execution_count": 200,
   "metadata": {},
   "outputs": [],
   "source": [
    "monto_credito = monto_input.strip()\n",
    "monto_credito = monto_credito.replace(\"$\", \"\").replace(\".\",\"\").replace(\",,\",\",\").replace(\",\",\".\")"
   ]
  },
  {
   "cell_type": "code",
   "execution_count": 202,
   "metadata": {},
   "outputs": [
    {
     "name": "stdout",
     "output_type": "stream",
     "text": [
      "Coloque un número válido porfavor\n"
     ]
    }
   ],
   "source": [
    "if monto_credito == \"\" or monto_credito == \"$\" or monto_credito == \" \" : \n",
    "    aux3 = False \n",
    "else:\n",
    "    try:\n",
    "        monto_credito = float(monto_credito)\n",
    "        aux3= True\n",
    "    except ValueError:\n",
    "        print(\"Coloque un número válido porfavor\")\n",
    "        aux3 = False       "
   ]
  },
  {
   "cell_type": "code",
   "execution_count": 203,
   "metadata": {},
   "outputs": [
    {
     "data": {
      "text/plain": [
       "False"
      ]
     },
     "execution_count": 203,
     "metadata": {},
     "output_type": "execute_result"
    }
   ],
   "source": [
    "aux3"
   ]
  },
  {
   "cell_type": "code",
   "execution_count": 99,
   "metadata": {},
   "outputs": [
    {
     "name": "stdout",
     "output_type": "stream",
     "text": [
      "100000.5\n"
     ]
    }
   ],
   "source": [
    "monto_credito = monto_input.strip()\n",
    "monto_credito = monto_credito.replace(\"$\", \"\").replace(\".\",\"\").replace(\",\",\".\")\n",
    "monto_credito = float(monto_credito)\n",
    "print(monto_credito)"
   ]
  }
 ],
 "metadata": {
  "kernelspec": {
   "display_name": "Python 3",
   "language": "python",
   "name": "python3"
  },
  "language_info": {
   "codemirror_mode": {
    "name": "ipython",
    "version": 3
   },
   "file_extension": ".py",
   "mimetype": "text/x-python",
   "name": "python",
   "nbconvert_exporter": "python",
   "pygments_lexer": "ipython3",
   "version": "3.11.4"
  },
  "orig_nbformat": 4
 },
 "nbformat": 4,
 "nbformat_minor": 2
}
